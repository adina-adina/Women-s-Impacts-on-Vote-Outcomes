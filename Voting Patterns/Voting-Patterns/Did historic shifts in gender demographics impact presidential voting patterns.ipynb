{
 "cells": [
  {
   "cell_type": "code",
   "execution_count": 1,
   "id": "19d54ca9",
   "metadata": {},
   "outputs": [],
   "source": [
    "# Dependencies\n",
    "\n",
    "import pandas as pd\n",
    "from scipy.stats import chi2_contingency\n",
    "import matplotlib.pyplot as plt\n",
    "from pathlib import Path\n",
    "from IPython.display import display, Markdown\n",
    "import numpy as np"
   ]
  },
  {
   "cell_type": "code",
   "execution_count": 2,
   "id": "d5efe456",
   "metadata": {},
   "outputs": [],
   "source": [
    "# Import data from CSV file\n",
    "\n",
    "file = Path('../Resources/Votes.csv')"
   ]
  },
  {
   "cell_type": "code",
   "execution_count": 3,
   "id": "7f0382c9",
   "metadata": {},
   "outputs": [],
   "source": [
    "# Create dataframe\n",
    "\n",
    "df = pd.read_csv(file, encoding=\"ISO-8859-1\")"
   ]
  },
  {
   "cell_type": "code",
   "execution_count": 4,
   "id": "c2ecab3e",
   "metadata": {},
   "outputs": [
    {
     "data": {
      "text/html": [
       "<div>\n",
       "<style scoped>\n",
       "    .dataframe tbody tr th:only-of-type {\n",
       "        vertical-align: middle;\n",
       "    }\n",
       "\n",
       "    .dataframe tbody tr th {\n",
       "        vertical-align: top;\n",
       "    }\n",
       "\n",
       "    .dataframe thead th {\n",
       "        text-align: right;\n",
       "    }\n",
       "</style>\n",
       "<table border=\"1\" class=\"dataframe\">\n",
       "  <thead>\n",
       "    <tr style=\"text-align: right;\">\n",
       "      <th></th>\n",
       "      <th>Election Year</th>\n",
       "      <th>Democratic Votes</th>\n",
       "      <th>Republican Votes</th>\n",
       "      <th>WINNER</th>\n",
       "    </tr>\n",
       "  </thead>\n",
       "  <tbody>\n",
       "    <tr>\n",
       "      <th>0</th>\n",
       "      <td>1856</td>\n",
       "      <td>1,836,072</td>\n",
       "      <td>1,342,345</td>\n",
       "      <td>Democratic</td>\n",
       "    </tr>\n",
       "    <tr>\n",
       "      <th>1</th>\n",
       "      <td>1860</td>\n",
       "      <td>1,375,157</td>\n",
       "      <td>1,866,452</td>\n",
       "      <td>Republican</td>\n",
       "    </tr>\n",
       "    <tr>\n",
       "      <th>2</th>\n",
       "      <td>1864</td>\n",
       "      <td>1,805,237</td>\n",
       "      <td>2,218,388</td>\n",
       "      <td>Republican</td>\n",
       "    </tr>\n",
       "    <tr>\n",
       "      <th>3</th>\n",
       "      <td>1868</td>\n",
       "      <td>2,703,249</td>\n",
       "      <td>3,013,791</td>\n",
       "      <td>Republican</td>\n",
       "    </tr>\n",
       "    <tr>\n",
       "      <th>4</th>\n",
       "      <td>1872</td>\n",
       "      <td>2,834,761</td>\n",
       "      <td>3,598,235</td>\n",
       "      <td>Republican</td>\n",
       "    </tr>\n",
       "  </tbody>\n",
       "</table>\n",
       "</div>"
      ],
      "text/plain": [
       "   Election Year  Democratic Votes Republican Votes       WINNER\n",
       "0            1856        1,836,072        1,342,345  Democratic \n",
       "1            1860        1,375,157        1,866,452  Republican \n",
       "2            1864        1,805,237        2,218,388  Republican \n",
       "3            1868        2,703,249        3,013,791  Republican \n",
       "4            1872        2,834,761        3,598,235  Republican "
      ]
     },
     "execution_count": 4,
     "metadata": {},
     "output_type": "execute_result"
    }
   ],
   "source": [
    "# Preview df\n",
    "\n",
    "df.head()"
   ]
  },
  {
   "cell_type": "code",
   "execution_count": 5,
   "id": "e8e9cf90",
   "metadata": {},
   "outputs": [
    {
     "data": {
      "text/html": [
       "<div>\n",
       "<style scoped>\n",
       "    .dataframe tbody tr th:only-of-type {\n",
       "        vertical-align: middle;\n",
       "    }\n",
       "\n",
       "    .dataframe tbody tr th {\n",
       "        vertical-align: top;\n",
       "    }\n",
       "\n",
       "    .dataframe thead th {\n",
       "        text-align: right;\n",
       "    }\n",
       "</style>\n",
       "<table border=\"1\" class=\"dataframe\">\n",
       "  <thead>\n",
       "    <tr style=\"text-align: right;\">\n",
       "      <th></th>\n",
       "      <th>Election Year</th>\n",
       "      <th>Democratic Votes</th>\n",
       "      <th>Republican Votes</th>\n",
       "      <th>WINNER</th>\n",
       "      <th>Total Votes</th>\n",
       "    </tr>\n",
       "  </thead>\n",
       "  <tbody>\n",
       "    <tr>\n",
       "      <th>0</th>\n",
       "      <td>1856</td>\n",
       "      <td>1836072</td>\n",
       "      <td>1342345</td>\n",
       "      <td>Democratic</td>\n",
       "      <td>3178417</td>\n",
       "    </tr>\n",
       "    <tr>\n",
       "      <th>1</th>\n",
       "      <td>1860</td>\n",
       "      <td>1375157</td>\n",
       "      <td>1866452</td>\n",
       "      <td>Republican</td>\n",
       "      <td>3241609</td>\n",
       "    </tr>\n",
       "    <tr>\n",
       "      <th>2</th>\n",
       "      <td>1864</td>\n",
       "      <td>1805237</td>\n",
       "      <td>2218388</td>\n",
       "      <td>Republican</td>\n",
       "      <td>4023625</td>\n",
       "    </tr>\n",
       "    <tr>\n",
       "      <th>3</th>\n",
       "      <td>1868</td>\n",
       "      <td>2703249</td>\n",
       "      <td>3013791</td>\n",
       "      <td>Republican</td>\n",
       "      <td>5717040</td>\n",
       "    </tr>\n",
       "    <tr>\n",
       "      <th>4</th>\n",
       "      <td>1872</td>\n",
       "      <td>2834761</td>\n",
       "      <td>3598235</td>\n",
       "      <td>Republican</td>\n",
       "      <td>6432996</td>\n",
       "    </tr>\n",
       "  </tbody>\n",
       "</table>\n",
       "</div>"
      ],
      "text/plain": [
       "   Election Year   Democratic Votes  Republican Votes       WINNER  \\\n",
       "0            1856           1836072           1342345  Democratic    \n",
       "1            1860           1375157           1866452  Republican    \n",
       "2            1864           1805237           2218388  Republican    \n",
       "3            1868           2703249           3013791  Republican    \n",
       "4            1872           2834761           3598235  Republican    \n",
       "\n",
       "   Total Votes  \n",
       "0      3178417  \n",
       "1      3241609  \n",
       "2      4023625  \n",
       "3      5717040  \n",
       "4      6432996  "
      ]
     },
     "execution_count": 5,
     "metadata": {},
     "output_type": "execute_result"
    }
   ],
   "source": [
    "# Change strings to numeric format and create column for total votes for each election year\n",
    "\n",
    "df['Democratic Votes'] = df['Democratic Votes'].astype(str).str.replace(',', '')\n",
    "df['Republican Votes'] = df['Republican Votes'].astype(str).str.replace(',', '')\n",
    "df['Democratic Votes'] = pd.to_numeric(df['Democratic Votes'])\n",
    "df['Republican Votes'] = pd.to_numeric(df['Republican Votes'])\n",
    "df['Total Votes'] = df['Democratic Votes'] + df['Republican Votes']\n",
    "df.head()"
   ]
  },
  {
   "cell_type": "code",
   "execution_count": 6,
   "id": "3ed531ee",
   "metadata": {},
   "outputs": [
    {
     "data": {
      "text/html": [
       "<div>\n",
       "<style scoped>\n",
       "    .dataframe tbody tr th:only-of-type {\n",
       "        vertical-align: middle;\n",
       "    }\n",
       "\n",
       "    .dataframe tbody tr th {\n",
       "        vertical-align: top;\n",
       "    }\n",
       "\n",
       "    .dataframe thead th {\n",
       "        text-align: right;\n",
       "    }\n",
       "</style>\n",
       "<table border=\"1\" class=\"dataframe\">\n",
       "  <thead>\n",
       "    <tr style=\"text-align: right;\">\n",
       "      <th></th>\n",
       "      <th>Election Year</th>\n",
       "      <th>Democratic Votes</th>\n",
       "      <th>Republican Votes</th>\n",
       "      <th>WINNER</th>\n",
       "      <th>Total Votes</th>\n",
       "      <th>Democratic Percentage</th>\n",
       "      <th>Republican Percentage</th>\n",
       "    </tr>\n",
       "  </thead>\n",
       "  <tbody>\n",
       "    <tr>\n",
       "      <th>0</th>\n",
       "      <td>1856</td>\n",
       "      <td>1836072</td>\n",
       "      <td>1342345</td>\n",
       "      <td>Democratic</td>\n",
       "      <td>3178417</td>\n",
       "      <td>57.766869</td>\n",
       "      <td>42.233131</td>\n",
       "    </tr>\n",
       "    <tr>\n",
       "      <th>1</th>\n",
       "      <td>1860</td>\n",
       "      <td>1375157</td>\n",
       "      <td>1866452</td>\n",
       "      <td>Republican</td>\n",
       "      <td>3241609</td>\n",
       "      <td>42.422050</td>\n",
       "      <td>57.577950</td>\n",
       "    </tr>\n",
       "    <tr>\n",
       "      <th>2</th>\n",
       "      <td>1864</td>\n",
       "      <td>1805237</td>\n",
       "      <td>2218388</td>\n",
       "      <td>Republican</td>\n",
       "      <td>4023625</td>\n",
       "      <td>44.865936</td>\n",
       "      <td>55.134064</td>\n",
       "    </tr>\n",
       "    <tr>\n",
       "      <th>3</th>\n",
       "      <td>1868</td>\n",
       "      <td>2703249</td>\n",
       "      <td>3013791</td>\n",
       "      <td>Republican</td>\n",
       "      <td>5717040</td>\n",
       "      <td>47.284067</td>\n",
       "      <td>52.715933</td>\n",
       "    </tr>\n",
       "    <tr>\n",
       "      <th>4</th>\n",
       "      <td>1872</td>\n",
       "      <td>2834761</td>\n",
       "      <td>3598235</td>\n",
       "      <td>Republican</td>\n",
       "      <td>6432996</td>\n",
       "      <td>44.065953</td>\n",
       "      <td>55.934047</td>\n",
       "    </tr>\n",
       "  </tbody>\n",
       "</table>\n",
       "</div>"
      ],
      "text/plain": [
       "   Election Year   Democratic Votes  Republican Votes       WINNER  \\\n",
       "0            1856           1836072           1342345  Democratic    \n",
       "1            1860           1375157           1866452  Republican    \n",
       "2            1864           1805237           2218388  Republican    \n",
       "3            1868           2703249           3013791  Republican    \n",
       "4            1872           2834761           3598235  Republican    \n",
       "\n",
       "   Total Votes  Democratic Percentage  Republican Percentage  \n",
       "0      3178417              57.766869              42.233131  \n",
       "1      3241609              42.422050              57.577950  \n",
       "2      4023625              44.865936              55.134064  \n",
       "3      5717040              47.284067              52.715933  \n",
       "4      6432996              44.065953              55.934047  "
      ]
     },
     "execution_count": 6,
     "metadata": {},
     "output_type": "execute_result"
    }
   ],
   "source": [
    "# Create columns for each party's percentage of votes each year\n",
    "\n",
    "df['Democratic Percentage'] = (df['Democratic Votes'] / df['Total Votes']) * 100\n",
    "df['Republican Percentage'] = (df['Republican Votes'] / df['Total Votes']) * 100\n",
    "df.head()"
   ]
  },
  {
   "cell_type": "code",
   "execution_count": 7,
   "id": "c6aba1b6",
   "metadata": {},
   "outputs": [
    {
     "data": {
      "text/html": [
       "<div>\n",
       "<style scoped>\n",
       "    .dataframe tbody tr th:only-of-type {\n",
       "        vertical-align: middle;\n",
       "    }\n",
       "\n",
       "    .dataframe tbody tr th {\n",
       "        vertical-align: top;\n",
       "    }\n",
       "\n",
       "    .dataframe thead th {\n",
       "        text-align: right;\n",
       "    }\n",
       "</style>\n",
       "<table border=\"1\" class=\"dataframe\">\n",
       "  <thead>\n",
       "    <tr style=\"text-align: right;\">\n",
       "      <th></th>\n",
       "      <th>Election Year</th>\n",
       "      <th>Democratic Votes</th>\n",
       "      <th>Republican Votes</th>\n",
       "      <th>WINNER</th>\n",
       "      <th>Total Votes</th>\n",
       "      <th>Democratic Percentage</th>\n",
       "      <th>Republican Percentage</th>\n",
       "    </tr>\n",
       "  </thead>\n",
       "  <tbody>\n",
       "    <tr>\n",
       "      <th>0</th>\n",
       "      <td>1856</td>\n",
       "      <td>1836072</td>\n",
       "      <td>1342345</td>\n",
       "      <td>Democratic</td>\n",
       "      <td>3178417</td>\n",
       "      <td>57.766869</td>\n",
       "      <td>42.233131</td>\n",
       "    </tr>\n",
       "    <tr>\n",
       "      <th>1</th>\n",
       "      <td>1860</td>\n",
       "      <td>1375157</td>\n",
       "      <td>1866452</td>\n",
       "      <td>Republican</td>\n",
       "      <td>3241609</td>\n",
       "      <td>42.422050</td>\n",
       "      <td>57.577950</td>\n",
       "    </tr>\n",
       "    <tr>\n",
       "      <th>2</th>\n",
       "      <td>1864</td>\n",
       "      <td>1805237</td>\n",
       "      <td>2218388</td>\n",
       "      <td>Republican</td>\n",
       "      <td>4023625</td>\n",
       "      <td>44.865936</td>\n",
       "      <td>55.134064</td>\n",
       "    </tr>\n",
       "    <tr>\n",
       "      <th>3</th>\n",
       "      <td>1868</td>\n",
       "      <td>2703249</td>\n",
       "      <td>3013791</td>\n",
       "      <td>Republican</td>\n",
       "      <td>5717040</td>\n",
       "      <td>47.284067</td>\n",
       "      <td>52.715933</td>\n",
       "    </tr>\n",
       "    <tr>\n",
       "      <th>4</th>\n",
       "      <td>1872</td>\n",
       "      <td>2834761</td>\n",
       "      <td>3598235</td>\n",
       "      <td>Republican</td>\n",
       "      <td>6432996</td>\n",
       "      <td>44.065953</td>\n",
       "      <td>55.934047</td>\n",
       "    </tr>\n",
       "  </tbody>\n",
       "</table>\n",
       "</div>"
      ],
      "text/plain": [
       "   Election Year   Democratic Votes  Republican Votes       WINNER  \\\n",
       "0            1856           1836072           1342345  Democratic    \n",
       "1            1860           1375157           1866452  Republican    \n",
       "2            1864           1805237           2218388  Republican    \n",
       "3            1868           2703249           3013791  Republican    \n",
       "4            1872           2834761           3598235  Republican    \n",
       "\n",
       "   Total Votes  Democratic Percentage  Republican Percentage  \n",
       "0      3178417              57.766869              42.233131  \n",
       "1      3241609              42.422050              57.577950  \n",
       "2      4023625              44.865936              55.134064  \n",
       "3      5717040              47.284067              52.715933  \n",
       "4      6432996              44.065953              55.934047  "
      ]
     },
     "execution_count": 7,
     "metadata": {},
     "output_type": "execute_result"
    }
   ],
   "source": [
    "# Create separate df's for before women's suffrage in 1920, between 1920 and 1980, and after 1980\n",
    "df_before_suffrage = df[df['Election Year '] < 1920]\n",
    "df_after_1920 = df[(df['Election Year '] >= 1920) & (df['Election Year '] < 1980)]\n",
    "df_after_1980 = df[df['Election Year '] >= 1980]\n",
    "\n",
    "# Preview \"before suffrage\" df\n",
    "df_before_suffrage.head()"
   ]
  },
  {
   "cell_type": "code",
   "execution_count": 8,
   "id": "bd8b3b64",
   "metadata": {},
   "outputs": [
    {
     "data": {
      "text/html": [
       "<div>\n",
       "<style scoped>\n",
       "    .dataframe tbody tr th:only-of-type {\n",
       "        vertical-align: middle;\n",
       "    }\n",
       "\n",
       "    .dataframe tbody tr th {\n",
       "        vertical-align: top;\n",
       "    }\n",
       "\n",
       "    .dataframe thead th {\n",
       "        text-align: right;\n",
       "    }\n",
       "</style>\n",
       "<table border=\"1\" class=\"dataframe\">\n",
       "  <thead>\n",
       "    <tr style=\"text-align: right;\">\n",
       "      <th></th>\n",
       "      <th>Election Year</th>\n",
       "      <th>Democratic Votes</th>\n",
       "      <th>Republican Votes</th>\n",
       "      <th>WINNER</th>\n",
       "      <th>Total Votes</th>\n",
       "      <th>Democratic Percentage</th>\n",
       "      <th>Republican Percentage</th>\n",
       "    </tr>\n",
       "  </thead>\n",
       "  <tbody>\n",
       "    <tr>\n",
       "      <th>31</th>\n",
       "      <td>1980</td>\n",
       "      <td>35480115</td>\n",
       "      <td>43903230</td>\n",
       "      <td>Republican</td>\n",
       "      <td>79383345</td>\n",
       "      <td>44.694659</td>\n",
       "      <td>55.305341</td>\n",
       "    </tr>\n",
       "    <tr>\n",
       "      <th>32</th>\n",
       "      <td>1984</td>\n",
       "      <td>37577352</td>\n",
       "      <td>54455472</td>\n",
       "      <td>Republican</td>\n",
       "      <td>92032824</td>\n",
       "      <td>40.830380</td>\n",
       "      <td>59.169620</td>\n",
       "    </tr>\n",
       "    <tr>\n",
       "      <th>33</th>\n",
       "      <td>1988</td>\n",
       "      <td>41809074</td>\n",
       "      <td>48886097</td>\n",
       "      <td>Republican</td>\n",
       "      <td>90695171</td>\n",
       "      <td>46.098457</td>\n",
       "      <td>53.901543</td>\n",
       "    </tr>\n",
       "    <tr>\n",
       "      <th>34</th>\n",
       "      <td>1992</td>\n",
       "      <td>44909806</td>\n",
       "      <td>39104545</td>\n",
       "      <td>Democratic</td>\n",
       "      <td>84014351</td>\n",
       "      <td>53.454922</td>\n",
       "      <td>46.545078</td>\n",
       "    </tr>\n",
       "    <tr>\n",
       "      <th>35</th>\n",
       "      <td>1996</td>\n",
       "      <td>47401185</td>\n",
       "      <td>39198755</td>\n",
       "      <td>Democratic</td>\n",
       "      <td>86599940</td>\n",
       "      <td>54.735817</td>\n",
       "      <td>45.264183</td>\n",
       "    </tr>\n",
       "  </tbody>\n",
       "</table>\n",
       "</div>"
      ],
      "text/plain": [
       "    Election Year   Democratic Votes  Republican Votes       WINNER  \\\n",
       "31            1980          35480115          43903230  Republican    \n",
       "32            1984          37577352          54455472  Republican    \n",
       "33            1988          41809074          48886097  Republican    \n",
       "34            1992          44909806          39104545  Democratic    \n",
       "35            1996          47401185          39198755  Democratic    \n",
       "\n",
       "    Total Votes  Democratic Percentage  Republican Percentage  \n",
       "31     79383345              44.694659              55.305341  \n",
       "32     92032824              40.830380              59.169620  \n",
       "33     90695171              46.098457              53.901543  \n",
       "34     84014351              53.454922              46.545078  \n",
       "35     86599940              54.735817              45.264183  "
      ]
     },
     "execution_count": 8,
     "metadata": {},
     "output_type": "execute_result"
    }
   ],
   "source": [
    "# Preview \"after 1980\" df\n",
    "\n",
    "df_after_1980.head()"
   ]
  },
  {
   "cell_type": "code",
   "execution_count": 9,
   "id": "8cc7790c",
   "metadata": {},
   "outputs": [
    {
     "data": {
      "text/html": [
       "<div>\n",
       "<style scoped>\n",
       "    .dataframe tbody tr th:only-of-type {\n",
       "        vertical-align: middle;\n",
       "    }\n",
       "\n",
       "    .dataframe tbody tr th {\n",
       "        vertical-align: top;\n",
       "    }\n",
       "\n",
       "    .dataframe thead th {\n",
       "        text-align: right;\n",
       "    }\n",
       "</style>\n",
       "<table border=\"1\" class=\"dataframe\">\n",
       "  <thead>\n",
       "    <tr style=\"text-align: right;\">\n",
       "      <th>Election Year</th>\n",
       "      <th>1856</th>\n",
       "      <th>1860</th>\n",
       "      <th>1864</th>\n",
       "      <th>1868</th>\n",
       "      <th>1872</th>\n",
       "      <th>1876</th>\n",
       "      <th>1880</th>\n",
       "      <th>1884</th>\n",
       "      <th>1888</th>\n",
       "      <th>1892</th>\n",
       "      <th>1896</th>\n",
       "      <th>1900</th>\n",
       "      <th>1904</th>\n",
       "      <th>1908</th>\n",
       "      <th>1912</th>\n",
       "      <th>1916</th>\n",
       "    </tr>\n",
       "    <tr>\n",
       "      <th>WINNER</th>\n",
       "      <th></th>\n",
       "      <th></th>\n",
       "      <th></th>\n",
       "      <th></th>\n",
       "      <th></th>\n",
       "      <th></th>\n",
       "      <th></th>\n",
       "      <th></th>\n",
       "      <th></th>\n",
       "      <th></th>\n",
       "      <th></th>\n",
       "      <th></th>\n",
       "      <th></th>\n",
       "      <th></th>\n",
       "      <th></th>\n",
       "      <th></th>\n",
       "    </tr>\n",
       "  </thead>\n",
       "  <tbody>\n",
       "    <tr>\n",
       "      <th>Democratic</th>\n",
       "      <td>1</td>\n",
       "      <td>0</td>\n",
       "      <td>0</td>\n",
       "      <td>0</td>\n",
       "      <td>0</td>\n",
       "      <td>0</td>\n",
       "      <td>0</td>\n",
       "      <td>1</td>\n",
       "      <td>0</td>\n",
       "      <td>1</td>\n",
       "      <td>0</td>\n",
       "      <td>0</td>\n",
       "      <td>0</td>\n",
       "      <td>0</td>\n",
       "      <td>1</td>\n",
       "      <td>1</td>\n",
       "    </tr>\n",
       "    <tr>\n",
       "      <th>Republican</th>\n",
       "      <td>0</td>\n",
       "      <td>1</td>\n",
       "      <td>1</td>\n",
       "      <td>1</td>\n",
       "      <td>1</td>\n",
       "      <td>1</td>\n",
       "      <td>1</td>\n",
       "      <td>0</td>\n",
       "      <td>1</td>\n",
       "      <td>0</td>\n",
       "      <td>1</td>\n",
       "      <td>1</td>\n",
       "      <td>1</td>\n",
       "      <td>1</td>\n",
       "      <td>0</td>\n",
       "      <td>0</td>\n",
       "    </tr>\n",
       "  </tbody>\n",
       "</table>\n",
       "</div>"
      ],
      "text/plain": [
       "Election Year   1856  1860  1864  1868  1872  1876  1880  1884  1888  1892  \\\n",
       "WINNER                                                                       \n",
       "Democratic         1     0     0     0     0     0     0     1     0     1   \n",
       "Republican         0     1     1     1     1     1     1     0     1     0   \n",
       "\n",
       "Election Year   1896  1900  1904  1908  1912  1916  \n",
       "WINNER                                              \n",
       "Democratic         0     0     0     0     1     1  \n",
       "Republican         1     1     1     1     0     0  "
      ]
     },
     "execution_count": 9,
     "metadata": {},
     "output_type": "execute_result"
    }
   ],
   "source": [
    "# Create contingency tables for chi square testing\n",
    "contingency_table_before = pd.crosstab(df_before_suffrage['WINNER'], df_before_suffrage['Election Year '])\n",
    "contingency_table_between = pd.crosstab(df_after_1920['WINNER'], df_after_1920['Election Year '])\n",
    "contingency_table_after = pd.crosstab(df_after_1980['WINNER'], df_after_1980['Election Year '])\n",
    "\n",
    "# Display contingency table before suffrage\n",
    "contingency_table_before"
   ]
  },
  {
   "cell_type": "code",
   "execution_count": 10,
   "id": "500d03c7",
   "metadata": {},
   "outputs": [
    {
     "data": {
      "text/html": [
       "<div>\n",
       "<style scoped>\n",
       "    .dataframe tbody tr th:only-of-type {\n",
       "        vertical-align: middle;\n",
       "    }\n",
       "\n",
       "    .dataframe tbody tr th {\n",
       "        vertical-align: top;\n",
       "    }\n",
       "\n",
       "    .dataframe thead th {\n",
       "        text-align: right;\n",
       "    }\n",
       "</style>\n",
       "<table border=\"1\" class=\"dataframe\">\n",
       "  <thead>\n",
       "    <tr style=\"text-align: right;\">\n",
       "      <th>Election Year</th>\n",
       "      <th>1980</th>\n",
       "      <th>1984</th>\n",
       "      <th>1988</th>\n",
       "      <th>1992</th>\n",
       "      <th>1996</th>\n",
       "      <th>2000</th>\n",
       "      <th>2004</th>\n",
       "      <th>2008</th>\n",
       "      <th>2012</th>\n",
       "      <th>2016</th>\n",
       "      <th>2020</th>\n",
       "    </tr>\n",
       "    <tr>\n",
       "      <th>WINNER</th>\n",
       "      <th></th>\n",
       "      <th></th>\n",
       "      <th></th>\n",
       "      <th></th>\n",
       "      <th></th>\n",
       "      <th></th>\n",
       "      <th></th>\n",
       "      <th></th>\n",
       "      <th></th>\n",
       "      <th></th>\n",
       "      <th></th>\n",
       "    </tr>\n",
       "  </thead>\n",
       "  <tbody>\n",
       "    <tr>\n",
       "      <th>Democratic</th>\n",
       "      <td>0</td>\n",
       "      <td>0</td>\n",
       "      <td>0</td>\n",
       "      <td>1</td>\n",
       "      <td>1</td>\n",
       "      <td>0</td>\n",
       "      <td>0</td>\n",
       "      <td>1</td>\n",
       "      <td>1</td>\n",
       "      <td>0</td>\n",
       "      <td>1</td>\n",
       "    </tr>\n",
       "    <tr>\n",
       "      <th>Republican</th>\n",
       "      <td>1</td>\n",
       "      <td>1</td>\n",
       "      <td>1</td>\n",
       "      <td>0</td>\n",
       "      <td>0</td>\n",
       "      <td>1</td>\n",
       "      <td>1</td>\n",
       "      <td>0</td>\n",
       "      <td>0</td>\n",
       "      <td>1</td>\n",
       "      <td>0</td>\n",
       "    </tr>\n",
       "  </tbody>\n",
       "</table>\n",
       "</div>"
      ],
      "text/plain": [
       "Election Year   1980  1984  1988  1992  1996  2000  2004  2008  2012  2016  \\\n",
       "WINNER                                                                       \n",
       "Democratic         0     0     0     1     1     0     0     1     1     0   \n",
       "Republican         1     1     1     0     0     1     1     0     0     1   \n",
       "\n",
       "Election Year   2020  \n",
       "WINNER                \n",
       "Democratic         1  \n",
       "Republican         0  "
      ]
     },
     "execution_count": 10,
     "metadata": {},
     "output_type": "execute_result"
    }
   ],
   "source": [
    "# Display contingency table after suffrage\n",
    "\n",
    "contingency_table_after"
   ]
  },
  {
   "cell_type": "code",
   "execution_count": 11,
   "id": "7129f899",
   "metadata": {},
   "outputs": [],
   "source": [
    "# Perform chi-square tests\n",
    "\n",
    "chi2_before, p_before, dof_before, expected_before = chi2_contingency(contingency_table_before)\n",
    "chi2_between, p_between, dof_between, expected_between = chi2_contingency(contingency_table_between)\n",
    "chi2_after, p_after, dof_after, expected_after = chi2_contingency(contingency_table_after)"
   ]
  },
  {
   "cell_type": "code",
   "execution_count": 12,
   "id": "f7a73cbc",
   "metadata": {},
   "outputs": [
    {
     "name": "stdout",
     "output_type": "stream",
     "text": [
      "Before women's suffrage:\n",
      "Chi-square statistic: 16.0\n",
      "p-value: 0.38205166150286374\n",
      "\n",
      "Between 1920 and 1980:\n",
      "Chi-square statistic: 14.999999999999998\n",
      "p-value: 0.37815469432346926\n",
      "\n",
      "After 1980:\n",
      "Chi-square statistic: 10.999999999999998\n",
      "p-value: 0.35751800242792586\n"
     ]
    }
   ],
   "source": [
    "#Statistical Analysis\n",
    "\n",
    "# Print results\n",
    "print(\"Before women's suffrage:\")\n",
    "print(\"Chi-square statistic:\", chi2_before)\n",
    "print(\"p-value:\", p_before)\n",
    "print(\"\\nBetween 1920 and 1980:\")\n",
    "print(\"Chi-square statistic:\", chi2_between)\n",
    "print(\"p-value:\", p_between)\n",
    "print(\"\\nAfter 1980:\")\n",
    "print(\"Chi-square statistic:\", chi2_after)\n",
    "print(\"p-value:\", p_after)"
   ]
  },
  {
   "cell_type": "code",
   "execution_count": 13,
   "id": "890b5801",
   "metadata": {
    "scrolled": true
   },
   "outputs": [
    {
     "data": {
      "text/markdown": [
       "The chi-square tests performed on the 'Winner' and 'Election Year' variables find no statistically significant correlation between these two variables during the historical period before the introduction of women's suffrage, after the beginning of women's suffrage in 1920, and also after 1980 when women started voting at higher rates than men (https://cawp.rutgers.edu/facts/voters/gender-differences-voter-turnout#GGN). Therefore, it can be concluded that the historic demographic shifts in women's electoral participation most likely has not altered the course of national popular vote outcomes for presidential elections. However, it is important to note that this study is limited in that it does not factor in other historical conditions such as war, economics, or abortion rights."
      ],
      "text/plain": [
       "<IPython.core.display.Markdown object>"
      ]
     },
     "metadata": {},
     "output_type": "display_data"
    }
   ],
   "source": [
    "# Written Analysis\n",
    "\n",
    "analysis = \"The chi-square tests performed on the 'Winner' and 'Election Year' variables find no statistically significant correlation between these two variables during the historical period before the introduction of women's suffrage, after the beginning of women's suffrage in 1920, and also after 1980 when women started voting at higher rates than men (https://cawp.rutgers.edu/facts/voters/gender-differences-voter-turnout#GGN). Therefore, it can be concluded that the historic demographic shifts in women's electoral participation most likely has not altered the course of national popular vote outcomes for presidential elections. However, it is important to note that this study is limited in that it does not factor in other historical conditions such as war, economics, or abortion rights.\"\n",
    "\n",
    "display(Markdown(analysis))\n",
    "\n"
   ]
  },
  {
   "cell_type": "code",
   "execution_count": 20,
   "id": "99608ff7",
   "metadata": {
    "scrolled": true
   },
   "outputs": [
    {
     "data": {
      "image/png": "[encoded data removed]",
      "text/plain": [
       "<Figure size 1008x360 with 1 Axes>"
      ]
     },
     "metadata": {
      "needs_background": "light"
     },
     "output_type": "display_data"
    }
   ],
   "source": [
    "# Plot Vote Percentage Line Chart  \n",
    "plt.figure(figsize=(14, 5))\n",
    "plt.plot(df['Election Year '], df['Democratic Percentage'], label='Democratic') \n",
    "plt.plot(df['Election Year '], df['Republican Percentage'], color='red', label='Republican')\n",
    "plt.axvline(1920, color='grey', linestyle='--')\n",
    "plt.annotate('19th Amendment', (1920, 45))\n",
    "plt.axvline(1980, color='grey', linestyle='--')\n",
    "plt.annotate('Women Majority', (1980, 45))\n",
    "plt.title('Party Vote Share Over Time') \n",
    "plt.xlabel('Election Year')\n",
    "plt.ylabel('Percentage of Vote')\n",
    "plt.legend()\n",
    "plt.show()"
   ]
  },
  {
   "cell_type": "code",
   "execution_count": 21,
   "id": "b889a7aa",
   "metadata": {},
   "outputs": [
    {
     "data": {
      "text/markdown": [
       "Since the late 1800's-decades before the passage of the 19th Amendment-American presidential elections have followed a very consistent cycle with neither party able to hold on to dominance for very long.  The winner cycles appear to be unaffected by the entrance of women voters into the electorate, and by their shift into the majority of the electorate.  However, it is interesting to note that Republicans accomplished their historically best performances right after the passage of the 19th Amendment, which also coincides with the end of World War I.  It is also interesting that election races have become notably tighter after 1980.  Understanding whether this new pattern is due to gender demographic shifts vs. other factors would require more research."
      ],
      "text/plain": [
       "<IPython.core.display.Markdown object>"
      ]
     },
     "metadata": {},
     "output_type": "display_data"
    }
   ],
   "source": [
    "# Combine Line Chart Analysis\n",
    "line_analysis = \"Since the late 1800's-decades before the passage of the 19th Amendment-American presidential elections have followed a very consistent cycle with neither party able to hold on to dominance for very long.  The winner cycles appear to be unaffected by the entrance of women voters into the electorate, and by their shift into the majority of the electorate.  However, it is interesting to note that Republicans accomplished their historically best performances right after the passage of the 19th Amendment, which also coincides with the end of World War I.  It is also interesting that election races have become notably tighter after 1980.  Understanding whether this new pattern is due to gender demographic shifts vs. other factors would require more research.\"\n",
    "display(Markdown(line_analysis))"
   ]
  },
  {
   "cell_type": "code",
   "execution_count": 16,
   "id": "9d3a5ffa",
   "metadata": {},
   "outputs": [
    {
     "data": {
      "image/png": "[encoded data removed]",
      "text/plain": [
       "<Figure size 1008x432 with 1 Axes>"
      ]
     },
     "metadata": {
      "needs_background": "light"
     },
     "output_type": "display_data"
    }
   ],
   "source": [
    "# Line chart for Democratic percentage vs. election year\n",
    "plt.figure(figsize=(14, 6))\n",
    "plt.plot(df['Election Year '], df['Democratic Percentage'], c='b', marker='s', label='Democratic', alpha=0.5)\n",
    "plt.axvline(1920, color='grey', linestyle='--', label='1920 (19th Amendment)')\n",
    "plt.annotate('19th Amendment', (1920, 45))\n",
    "plt.title('Democratic Percentage by Election Year')\n",
    "plt.axvline(1980, color='grey', linestyle='--')\n",
    "plt.annotate('Women Majority', (1980, 45))\n",
    "plt.xlabel('Election Year ')\n",
    "plt.ylabel('Democratic Percentage')\n",
    "plt.grid(True)\n",
    "plt.show()"
   ]
  },
  {
   "cell_type": "code",
   "execution_count": 17,
   "id": "07771e8b",
   "metadata": {},
   "outputs": [
    {
     "data": {
      "image/png": "[encoded data removed]",
      "text/plain": [
       "<Figure size 1008x432 with 1 Axes>"
      ]
     },
     "metadata": {
      "needs_background": "light"
     },
     "output_type": "display_data"
    }
   ],
   "source": [
    "# Line chart for Republican percentage vs. election year\n",
    "plt.figure(figsize=(14, 6))\n",
    "plt.plot(df['Election Year '], df['Republican Percentage'], c='r', marker='s', label='Republican', alpha=0.5)\n",
    "plt.axvline(1920, color='grey', linestyle='--', label='1920 (19th Amendment)')\n",
    "plt.annotate('19th Amendment', (1920, 45))\n",
    "plt.axvline(1980, color='grey', linestyle='--', label='1980 (Women Majority)')\n",
    "plt.annotate('Women Majority', (1980, 45))\n",
    "plt.title('Republican Percentage by Election Year')\n",
    "plt.xlabel('Election Year ')\n",
    "plt.ylabel('Republican Percentage')\n",
    "plt.grid(True)\n",
    "plt.show()"
   ]
  },
  {
   "cell_type": "code",
   "execution_count": 18,
   "id": "469c39d0",
   "metadata": {},
   "outputs": [
    {
     "data": {
      "text/markdown": [
       "The individual line graphs for both parties display consistent up-down trend patterns that begin well before the passing of the 19th Amendment in 1920.  The patterns continue after 1920, although with less exaggeration after women started voting at higher rates than men since 1980."
      ],
      "text/plain": [
       "<IPython.core.display.Markdown object>"
      ]
     },
     "metadata": {},
     "output_type": "display_data"
    }
   ],
   "source": [
    "# Chart Analysis\n",
    "\n",
    "chart_analysis = \"The individual line graphs for both parties display consistent up-down trend patterns that begin well before the passing of the 19th Amendment in 1920.  The patterns continue after 1920, although with less exaggeration after women started voting at higher rates than men since 1980.\"\n",
    "\n",
    "display(Markdown(chart_analysis))"
   ]
  },
  {
   "cell_type": "code",
   "execution_count": null,
   "id": "e8834705",
   "metadata": {},
   "outputs": [],
   "source": []
  }
 ],
 "metadata": {
  "kernelspec": {
   "display_name": "PythonData",
   "language": "python",
   "name": "pythondata"
  },
  "language_info": {
   "codemirror_mode": {
    "name": "ipython",
    "version": 3
   },
   "file_extension": ".py",
   "mimetype": "text/x-python",
   "name": "python",
   "nbconvert_exporter": "python",
   "pygments_lexer": "ipython3",
   "version": "3.7.7"
  }
 },
 "nbformat": 4,
 "nbformat_minor": 5
}
